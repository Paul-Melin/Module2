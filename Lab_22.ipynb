{
 "cells": [
  {
   "cell_type": "code",
   "execution_count": 1,
   "id": "b64571a0",
   "metadata": {},
   "outputs": [],
   "source": [
    "import yfinance as yf\n",
    "import pandas as pd\n",
    "import numpy as np\n",
    "import matplotlib.pyplot as plt \n",
    "import seaborn as sns"
   ]
  },
  {
   "cell_type": "code",
   "execution_count": 2,
   "id": "5e9a18f6",
   "metadata": {},
   "outputs": [],
   "source": [
    "import warnings\n",
    "warnings.filterwarnings(\"ignore\")\n"
   ]
  },
  {
   "cell_type": "code",
   "execution_count": 3,
   "id": "24d3ca9c",
   "metadata": {},
   "outputs": [
    {
     "name": "stdout",
     "output_type": "stream",
     "text": [
      "[*********************100%***********************]  1 of 1 completed\n"
     ]
    }
   ],
   "source": [
    "data = yf.download(\"BTC-USD\")[['Close']]\n"
   ]
  },
  {
   "cell_type": "code",
   "execution_count": 4,
   "id": "bbaa566b",
   "metadata": {},
   "outputs": [
    {
     "data": {
      "text/html": [
       "<div>\n",
       "<style scoped>\n",
       "    .dataframe tbody tr th:only-of-type {\n",
       "        vertical-align: middle;\n",
       "    }\n",
       "\n",
       "    .dataframe tbody tr th {\n",
       "        vertical-align: top;\n",
       "    }\n",
       "\n",
       "    .dataframe thead th {\n",
       "        text-align: right;\n",
       "    }\n",
       "</style>\n",
       "<table border=\"1\" class=\"dataframe\">\n",
       "  <thead>\n",
       "    <tr style=\"text-align: right;\">\n",
       "      <th></th>\n",
       "      <th>Close</th>\n",
       "    </tr>\n",
       "    <tr>\n",
       "      <th>Date</th>\n",
       "      <th></th>\n",
       "    </tr>\n",
       "  </thead>\n",
       "  <tbody>\n",
       "    <tr>\n",
       "      <th>2014-09-17</th>\n",
       "      <td>457.33</td>\n",
       "    </tr>\n",
       "    <tr>\n",
       "      <th>2014-09-18</th>\n",
       "      <td>424.44</td>\n",
       "    </tr>\n",
       "    <tr>\n",
       "      <th>2014-09-19</th>\n",
       "      <td>394.80</td>\n",
       "    </tr>\n",
       "    <tr>\n",
       "      <th>2014-09-20</th>\n",
       "      <td>408.90</td>\n",
       "    </tr>\n",
       "    <tr>\n",
       "      <th>2014-09-21</th>\n",
       "      <td>398.82</td>\n",
       "    </tr>\n",
       "  </tbody>\n",
       "</table>\n",
       "</div>"
      ],
      "text/plain": [
       "             Close\n",
       "Date              \n",
       "2014-09-17  457.33\n",
       "2014-09-18  424.44\n",
       "2014-09-19  394.80\n",
       "2014-09-20  408.90\n",
       "2014-09-21  398.82"
      ]
     },
     "execution_count": 4,
     "metadata": {},
     "output_type": "execute_result"
    }
   ],
   "source": [
    "data.index = pd.to_datetime(data.index)\n",
    "data.head().round(2)"
   ]
  },
  {
   "cell_type": "code",
   "execution_count": 5,
   "id": "097dc177",
   "metadata": {},
   "outputs": [
    {
     "data": {
      "text/plain": [
       "(2703, 1)"
      ]
     },
     "execution_count": 5,
     "metadata": {},
     "output_type": "execute_result"
    }
   ],
   "source": [
    "data.shape"
   ]
  },
  {
   "cell_type": "code",
   "execution_count": 6,
   "id": "2c843adc",
   "metadata": {},
   "outputs": [
    {
     "data": {
      "text/html": [
       "<div>\n",
       "<style scoped>\n",
       "    .dataframe tbody tr th:only-of-type {\n",
       "        vertical-align: middle;\n",
       "    }\n",
       "\n",
       "    .dataframe tbody tr th {\n",
       "        vertical-align: top;\n",
       "    }\n",
       "\n",
       "    .dataframe thead th {\n",
       "        text-align: right;\n",
       "    }\n",
       "</style>\n",
       "<table border=\"1\" class=\"dataframe\">\n",
       "  <thead>\n",
       "    <tr style=\"text-align: right;\">\n",
       "      <th></th>\n",
       "      <th>Close</th>\n",
       "    </tr>\n",
       "    <tr>\n",
       "      <th>Date</th>\n",
       "      <th></th>\n",
       "    </tr>\n",
       "  </thead>\n",
       "  <tbody>\n",
       "    <tr>\n",
       "      <th>2022-02-05</th>\n",
       "      <td>41441.164062</td>\n",
       "    </tr>\n",
       "    <tr>\n",
       "      <th>2022-02-06</th>\n",
       "      <td>42412.433594</td>\n",
       "    </tr>\n",
       "    <tr>\n",
       "      <th>2022-02-07</th>\n",
       "      <td>43840.285156</td>\n",
       "    </tr>\n",
       "    <tr>\n",
       "      <th>2022-02-08</th>\n",
       "      <td>44118.445312</td>\n",
       "    </tr>\n",
       "    <tr>\n",
       "      <th>2022-02-09</th>\n",
       "      <td>44493.636719</td>\n",
       "    </tr>\n",
       "  </tbody>\n",
       "</table>\n",
       "</div>"
      ],
      "text/plain": [
       "                   Close\n",
       "Date                    \n",
       "2022-02-05  41441.164062\n",
       "2022-02-06  42412.433594\n",
       "2022-02-07  43840.285156\n",
       "2022-02-08  44118.445312\n",
       "2022-02-09  44493.636719"
      ]
     },
     "execution_count": 6,
     "metadata": {},
     "output_type": "execute_result"
    }
   ],
   "source": [
    "data.tail()"
   ]
  },
  {
   "cell_type": "code",
   "execution_count": 7,
   "id": "504cd960",
   "metadata": {},
   "outputs": [
    {
     "data": {
      "text/plain": [
       "Text(0.5, 1.0, 'Bitcoin price')"
      ]
     },
     "execution_count": 7,
     "metadata": {},
     "output_type": "execute_result"
    },
    {
     "data": {
      "image/png": "[encoded data removed]",
      "text/plain": [
       "<Figure size 720x360 with 1 Axes>"
      ]
     },
     "metadata": {
      "needs_background": "light"
     },
     "output_type": "display_data"
    }
   ],
   "source": [
    "plt.figure(figsize=(10,5))\n",
    "sns.lineplot(data.index, data.Close)\n",
    "plt.title('Bitcoin price')"
   ]
  },
  {
   "cell_type": "code",
   "execution_count": 8,
   "id": "56fb30b1",
   "metadata": {},
   "outputs": [
    {
     "name": "stdout",
     "output_type": "stream",
     "text": [
      "ADF Test Statistic: -0.98\n",
      "5% Critical Value: -2.86\n",
      "p-value: 0.76\n"
     ]
    }
   ],
   "source": [
    "from statsmodels.tsa.stattools import adfuller\n",
    "\n",
    "result = adfuller(data.Close)\n",
    "print('ADF Test Statistic: %.2f' % result[0])\n",
    "print('5%% Critical Value: %.2f' % result[4]['5%'])\n",
    "print('p-value: %.2f' % result[1])"
   ]
  },
  {
   "cell_type": "code",
   "execution_count": 9,
   "id": "52718dd5",
   "metadata": {},
   "outputs": [
    {
     "data": {
      "image/png": "[encoded data removed]",
      "text/plain": [
       "<Figure size 432x288 with 1 Axes>"
      ]
     },
     "metadata": {
      "needs_background": "light"
     },
     "output_type": "display_data"
    }
   ],
   "source": [
    "from statsmodels.graphics.tsaplots import plot_acf , plot_pacf\n",
    "plot_acf(data.Close)\n",
    "plt.show()"
   ]
  },
  {
   "cell_type": "code",
   "execution_count": 10,
   "id": "e8d3e88d",
   "metadata": {},
   "outputs": [
    {
     "data": {
      "image/png": "[encoded data removed]",
      "text/plain": [
       "<Figure size 432x288 with 1 Axes>"
      ]
     },
     "metadata": {
      "needs_background": "light"
     },
     "output_type": "display_data"
    }
   ],
   "source": [
    "plot_pacf(data.Close)\n",
    "plt.show()"
   ]
  },
  {
   "cell_type": "code",
   "execution_count": 11,
   "id": "aba2593c",
   "metadata": {},
   "outputs": [
    {
     "data": {
      "text/html": [
       "<div>\n",
       "<style scoped>\n",
       "    .dataframe tbody tr th:only-of-type {\n",
       "        vertical-align: middle;\n",
       "    }\n",
       "\n",
       "    .dataframe tbody tr th {\n",
       "        vertical-align: top;\n",
       "    }\n",
       "\n",
       "    .dataframe thead th {\n",
       "        text-align: right;\n",
       "    }\n",
       "</style>\n",
       "<table border=\"1\" class=\"dataframe\">\n",
       "  <thead>\n",
       "    <tr style=\"text-align: right;\">\n",
       "      <th></th>\n",
       "      <th>Close</th>\n",
       "      <th>differ</th>\n",
       "    </tr>\n",
       "    <tr>\n",
       "      <th>Date</th>\n",
       "      <th></th>\n",
       "      <th></th>\n",
       "    </tr>\n",
       "  </thead>\n",
       "  <tbody>\n",
       "    <tr>\n",
       "      <th>2014-09-17</th>\n",
       "      <td>457.334015</td>\n",
       "      <td>NaN</td>\n",
       "    </tr>\n",
       "    <tr>\n",
       "      <th>2014-09-18</th>\n",
       "      <td>424.440002</td>\n",
       "      <td>-32.894012</td>\n",
       "    </tr>\n",
       "    <tr>\n",
       "      <th>2014-09-19</th>\n",
       "      <td>394.795990</td>\n",
       "      <td>-29.644012</td>\n",
       "    </tr>\n",
       "    <tr>\n",
       "      <th>2014-09-20</th>\n",
       "      <td>408.903992</td>\n",
       "      <td>14.108002</td>\n",
       "    </tr>\n",
       "    <tr>\n",
       "      <th>2014-09-21</th>\n",
       "      <td>398.821014</td>\n",
       "      <td>-10.082977</td>\n",
       "    </tr>\n",
       "  </tbody>\n",
       "</table>\n",
       "</div>"
      ],
      "text/plain": [
       "                 Close     differ\n",
       "Date                             \n",
       "2014-09-17  457.334015        NaN\n",
       "2014-09-18  424.440002 -32.894012\n",
       "2014-09-19  394.795990 -29.644012\n",
       "2014-09-20  408.903992  14.108002\n",
       "2014-09-21  398.821014 -10.082977"
      ]
     },
     "execution_count": 11,
     "metadata": {},
     "output_type": "execute_result"
    }
   ],
   "source": [
    "data['differ'] = data['Close'].diff()\n",
    "data.head()\n"
   ]
  },
  {
   "cell_type": "code",
   "execution_count": 12,
   "id": "585b19cc",
   "metadata": {},
   "outputs": [
    {
     "data": {
      "text/plain": [
       "Text(0.5, 1.0, 'Bitcoin price')"
      ]
     },
     "execution_count": 12,
     "metadata": {},
     "output_type": "execute_result"
    },
    {
     "data": {
      "image/png": "[encoded data removed]",
      "text/plain": [
       "<Figure size 720x360 with 1 Axes>"
      ]
     },
     "metadata": {
      "needs_background": "light"
     },
     "output_type": "display_data"
    }
   ],
   "source": [
    "plt.figure(figsize=(10,5))\n",
    "sns.lineplot(data.index, data.differ)\n",
    "plt.title('Bitcoin price')"
   ]
  },
  {
   "cell_type": "code",
   "execution_count": 13,
   "id": "3841a805",
   "metadata": {},
   "outputs": [
    {
     "name": "stdout",
     "output_type": "stream",
     "text": [
      "ADF Test Statistic: -8.54\n",
      "5% Critical Value: -2.86\n",
      "p-value: 0.00\n"
     ]
    }
   ],
   "source": [
    "result = adfuller(data.differ.dropna())\n",
    "print('ADF Test Statistic: %.2f' % result[0])\n",
    "print('5%% Critical Value: %.2f' % result[4]['5%'])\n",
    "print('p-value: %.2f' % result[1])"
   ]
  },
  {
   "cell_type": "code",
   "execution_count": 14,
   "id": "ae75f5c3",
   "metadata": {},
   "outputs": [
    {
     "name": "stderr",
     "output_type": "stream",
     "text": [
      "C:\\Users\\paul\\anaconda3\\lib\\site-packages\\statsmodels\\tsa\\base\\tsa_model.py:524: ValueWarning: No frequency information was provided, so inferred frequency D will be used.\n",
      "  warnings.warn('No frequency information was'\n"
     ]
    },
    {
     "name": "stdout",
     "output_type": "stream",
     "text": [
      "                              ARMA Model Results                              \n",
      "==============================================================================\n",
      "Dep. Variable:                 differ   No. Observations:                 2702\n",
      "Model:                     ARMA(1, 0)   Log Likelihood              -21792.746\n",
      "Method:                       css-mle   S.D. of innovations            770.065\n",
      "Date:                Wed, 09 Feb 2022   AIC                          43591.492\n",
      "Time:                        23:01:20   BIC                          43609.197\n",
      "Sample:                    09-18-2014   HQIC                         43597.894\n",
      "                         - 02-09-2022                                         \n",
      "================================================================================\n",
      "                   coef    std err          z      P>|z|      [0.025      0.975]\n",
      "--------------------------------------------------------------------------------\n",
      "const           16.2977     14.455      1.127      0.260     -12.034      44.630\n",
      "ar.L1.differ    -0.0249      0.019     -1.292      0.196      -0.063       0.013\n",
      "                                    Roots                                    \n",
      "=============================================================================\n",
      "                  Real          Imaginary           Modulus         Frequency\n",
      "-----------------------------------------------------------------------------\n",
      "AR.1          -40.2401           +0.0000j           40.2401            0.5000\n",
      "-----------------------------------------------------------------------------\n"
     ]
    }
   ],
   "source": [
    "from statsmodels.tsa.arima_model import ARMA\n",
    "mod_ar1 = ARMA(data.differ.dropna(), order=(1, 0))\n",
    "res_ar1 = mod_ar1.fit()\n",
    "print(res_ar1.summary())"
   ]
  },
  {
   "cell_type": "code",
   "execution_count": 15,
   "id": "17dd5401",
   "metadata": {},
   "outputs": [],
   "source": [
    "from statsmodels.tsa.arima_model import ARIMA\n",
    "\n",
    "p=range(5)\n",
    "q=range(5)\n",
    "d=range(5)\n",
    "order_list = [(x,y,z) for x in p for y in q for z in d] "
   ]
  },
  {
   "cell_type": "code",
   "execution_count": 16,
   "id": "4afd25d2",
   "metadata": {},
   "outputs": [
    {
     "name": "stderr",
     "output_type": "stream",
     "text": [
      "C:\\Users\\paul\\anaconda3\\lib\\site-packages\\statsmodels\\tsa\\base\\tsa_model.py:524: ValueWarning: No frequency information was provided, so inferred frequency D will be used.\n",
      "  warnings.warn('No frequency information was'\n"
     ]
    },
    {
     "name": "stdout",
     "output_type": "stream",
     "text": [
      "                              ARMA Model Results                              \n",
      "==============================================================================\n",
      "Dep. Variable:                 differ   No. Observations:                 2702\n",
      "Model:                    ARMA(10, 0)   Log Likelihood              -21772.006\n",
      "Method:                       css-mle   S.D. of innovations            764.160\n",
      "Date:                Wed, 09 Feb 2022   AIC                          43568.012\n",
      "Time:                        23:01:26   BIC                          43638.833\n",
      "Sample:                    09-18-2014   HQIC                         43593.622\n",
      "                         - 02-09-2022                                         \n",
      "=================================================================================\n",
      "                    coef    std err          z      P>|z|      [0.025      0.975]\n",
      "---------------------------------------------------------------------------------\n",
      "const            16.2977     16.701      0.976      0.329     -16.436      49.031\n",
      "ar.L1.differ     -0.0293      0.019     -1.525      0.127      -0.067       0.008\n",
      "ar.L2.differ      0.0078      0.019      0.409      0.683      -0.030       0.045\n",
      "ar.L3.differ      0.0185      0.019      0.964      0.335      -0.019       0.056\n",
      "ar.L4.differ      0.0493      0.019      2.576      0.010       0.012       0.087\n",
      "ar.L5.differ      0.0196      0.019      1.021      0.307      -0.018       0.057\n",
      "ar.L6.differ      0.0181      0.019      0.939      0.348      -0.020       0.056\n",
      "ar.L7.differ     -0.0559      0.019     -2.903      0.004      -0.094      -0.018\n",
      "ar.L8.differ     -0.0335      0.019     -1.739      0.082      -0.071       0.004\n",
      "ar.L9.differ      0.0656      0.019      3.403      0.001       0.028       0.103\n",
      "ar.L10.differ     0.0599      0.019      3.099      0.002       0.022       0.098\n",
      "                                    Roots                                     \n",
      "==============================================================================\n",
      "                   Real          Imaginary           Modulus         Frequency\n",
      "------------------------------------------------------------------------------\n",
      "AR.1             1.2734           -0.0000j            1.2734           -0.0000\n",
      "AR.2             1.0580           -0.7342j            1.2878           -0.0966\n",
      "AR.3             1.0580           +0.7342j            1.2878            0.0966\n",
      "AR.4             0.3085           -1.1781j            1.2179           -0.2092\n",
      "AR.5             0.3085           +1.1781j            1.2179            0.2092\n",
      "AR.6            -0.5444           -1.1738j            1.2939           -0.3191\n",
      "AR.7            -0.5444           +1.1738j            1.2939            0.3191\n",
      "AR.8            -1.2789           -0.7426j            1.4789           -0.4163\n",
      "AR.9            -1.2789           +0.7426j            1.4789            0.4163\n",
      "AR.10           -1.4561           -0.0000j            1.4561           -0.5000\n",
      "------------------------------------------------------------------------------\n"
     ]
    }
   ],
   "source": [
    "mod_ar2 = ARMA(data.differ.dropna(), order=(10, 0))\n",
    "res_ar2 = mod_ar2.fit()\n",
    "print(res_ar2.summary())"
   ]
  },
  {
   "cell_type": "code",
   "execution_count": 17,
   "id": "0da320f9",
   "metadata": {},
   "outputs": [
    {
     "name": "stderr",
     "output_type": "stream",
     "text": [
      "C:\\Users\\paul\\anaconda3\\lib\\site-packages\\statsmodels\\tsa\\base\\tsa_model.py:524: ValueWarning: No frequency information was provided, so inferred frequency D will be used.\n",
      "  warnings.warn('No frequency information was'\n"
     ]
    },
    {
     "name": "stdout",
     "output_type": "stream",
     "text": [
      "                              ARMA Model Results                              \n",
      "==============================================================================\n",
      "Dep. Variable:                 differ   No. Observations:                 2702\n",
      "Model:                     ARMA(0, 1)   Log Likelihood              -21792.750\n",
      "Method:                       css-mle   S.D. of innovations            770.066\n",
      "Date:                Wed, 09 Feb 2022   AIC                          43591.499\n",
      "Time:                        23:01:32   BIC                          43609.205\n",
      "Sample:                    09-18-2014   HQIC                         43597.902\n",
      "                         - 02-09-2022                                         \n",
      "================================================================================\n",
      "                   coef    std err          z      P>|z|      [0.025      0.975]\n",
      "--------------------------------------------------------------------------------\n",
      "const           16.2977     14.448      1.128      0.259     -12.020      44.616\n",
      "ma.L1.differ    -0.0247      0.019     -1.290      0.197      -0.062       0.013\n",
      "                                    Roots                                    \n",
      "=============================================================================\n",
      "                  Real          Imaginary           Modulus         Frequency\n",
      "-----------------------------------------------------------------------------\n",
      "MA.1           40.4347           +0.0000j           40.4347            0.0000\n",
      "-----------------------------------------------------------------------------\n"
     ]
    }
   ],
   "source": [
    "mod_ma1 = ARMA(data.differ.dropna(), order=(0, 1))\n",
    "res_ma1 = mod_ma1.fit()\n",
    "print(res_ma1.summary())"
   ]
  },
  {
   "cell_type": "code",
   "execution_count": 18,
   "id": "f7a67835",
   "metadata": {},
   "outputs": [
    {
     "name": "stderr",
     "output_type": "stream",
     "text": [
      "C:\\Users\\paul\\anaconda3\\lib\\site-packages\\statsmodels\\tsa\\base\\tsa_model.py:524: ValueWarning: No frequency information was provided, so inferred frequency D will be used.\n",
      "  warnings.warn('No frequency information was'\n"
     ]
    },
    {
     "name": "stdout",
     "output_type": "stream",
     "text": [
      "                              ARMA Model Results                              \n",
      "==============================================================================\n",
      "Dep. Variable:                 differ   No. Observations:                 2702\n",
      "Model:                    ARMA(0, 10)   Log Likelihood              -21769.827\n",
      "Method:                       css-mle   S.D. of innovations            763.539\n",
      "Date:                Wed, 09 Feb 2022   AIC                          43563.653\n",
      "Time:                        23:01:38   BIC                          43634.474\n",
      "Sample:                    09-18-2014   HQIC                         43589.263\n",
      "                         - 02-09-2022                                         \n",
      "=================================================================================\n",
      "                    coef    std err          z      P>|z|      [0.025      0.975]\n",
      "---------------------------------------------------------------------------------\n",
      "const            16.2977     16.896      0.965      0.335     -16.818      49.413\n",
      "ma.L1.differ     -0.0287      0.019     -1.497      0.135      -0.066       0.009\n",
      "ma.L2.differ      0.0163      0.019      0.846      0.398      -0.021       0.054\n",
      "ma.L3.differ      0.0194      0.019      1.003      0.316      -0.018       0.057\n",
      "ma.L4.differ      0.0365      0.020      1.873      0.061      -0.002       0.075\n",
      "ma.L5.differ      0.0229      0.019      1.178      0.239      -0.015       0.061\n",
      "ma.L6.differ      0.0409      0.021      1.996      0.046       0.001       0.081\n",
      "ma.L7.differ     -0.0608      0.020     -3.046      0.002      -0.100      -0.022\n",
      "ma.L8.differ     -0.0349      0.021     -1.691      0.091      -0.075       0.006\n",
      "ma.L9.differ      0.0809      0.021      3.894      0.000       0.040       0.122\n",
      "ma.L10.differ     0.0581      0.018      3.168      0.002       0.022       0.094\n",
      "                                    Roots                                     \n",
      "==============================================================================\n",
      "                   Real          Imaginary           Modulus         Frequency\n",
      "------------------------------------------------------------------------------\n",
      "MA.1             1.2095           -0.4173j            1.2795           -0.0529\n",
      "MA.2             1.2095           +0.4173j            1.2795            0.0529\n",
      "MA.3             0.7199           -0.9833j            1.2187           -0.1494\n",
      "MA.4             0.7199           +0.9833j            1.2187            0.1494\n",
      "MA.5            -0.1141           -1.2196j            1.2250           -0.2648\n",
      "MA.6            -0.1141           +1.2196j            1.2250            0.2648\n",
      "MA.7            -0.9896           -0.9532j            1.3740           -0.3780\n",
      "MA.8            -0.9896           +0.9532j            1.3740            0.3780\n",
      "MA.9            -1.5224           -0.4270j            1.5811           -0.4565\n",
      "MA.10           -1.5224           +0.4270j            1.5811            0.4565\n",
      "------------------------------------------------------------------------------\n"
     ]
    }
   ],
   "source": [
    "mod_ma2 = ARMA(data.differ.dropna(), order=(0, 10))\n",
    "res_ma2 = mod_ma2.fit()\n",
    "print(res_ma2.summary())"
   ]
  },
  {
   "cell_type": "code",
   "execution_count": 19,
   "id": "20950c0e",
   "metadata": {},
   "outputs": [
    {
     "name": "stdout",
     "output_type": "stream",
     "text": [
      "2162\n",
      "541\n"
     ]
    }
   ],
   "source": [
    "train = data['differ'][0:int(len(data.differ)*0.8)]\n",
    "test = data['differ'][int(len(data.differ)*0.8):]\n",
    "print(len(train))\n",
    "print(len(test))"
   ]
  },
  {
   "cell_type": "code",
   "execution_count": 20,
   "id": "8d3195d7",
   "metadata": {},
   "outputs": [
    {
     "data": {
      "text/plain": [
       "Date\n",
       "2020-08-18   -263.168945\n",
       "2020-08-19   -232.950195\n",
       "2020-08-20    120.088867\n",
       "2020-08-21   -285.882812\n",
       "2020-08-22     89.335938\n",
       "Name: differ, dtype: float64"
      ]
     },
     "execution_count": 20,
     "metadata": {},
     "output_type": "execute_result"
    }
   ],
   "source": [
    "test.head()"
   ]
  },
  {
   "cell_type": "code",
   "execution_count": 21,
   "id": "62593a19",
   "metadata": {},
   "outputs": [
    {
     "name": "stdout",
     "output_type": "stream",
     "text": [
      "                              ARMA Model Results                              \n",
      "==============================================================================\n",
      "Dep. Variable:                 differ   No. Observations:                 2161\n",
      "Model:                     ARMA(1, 0)   Log Likelihood              -15281.779\n",
      "Method:                       css-mle   S.D. of innovations            285.056\n",
      "Date:                Wed, 09 Feb 2022   AIC                          30569.558\n",
      "Time:                        23:01:42   BIC                          30586.593\n",
      "Sample:                    09-18-2014   HQIC                         30575.788\n",
      "                         - 08-17-2020                                         \n",
      "================================================================================\n",
      "                   coef    std err          z      P>|z|      [0.025      0.975]\n",
      "--------------------------------------------------------------------------------\n",
      "const            5.4591      6.235      0.876      0.381      -6.761      17.679\n",
      "ar.L1.differ     0.0165      0.022      0.766      0.443      -0.026       0.059\n",
      "                                    Roots                                    \n",
      "=============================================================================\n",
      "                  Real          Imaginary           Modulus         Frequency\n",
      "-----------------------------------------------------------------------------\n",
      "AR.1           60.6498           +0.0000j           60.6498            0.0000\n",
      "-----------------------------------------------------------------------------\n"
     ]
    },
    {
     "name": "stderr",
     "output_type": "stream",
     "text": [
      "C:\\Users\\paul\\anaconda3\\lib\\site-packages\\statsmodels\\tsa\\base\\tsa_model.py:524: ValueWarning: No frequency information was provided, so inferred frequency D will be used.\n",
      "  warnings.warn('No frequency information was'\n"
     ]
    }
   ],
   "source": [
    "mod_ar1 = ARMA(train.dropna(), order=(1, 0))\n",
    "res_ar1 = mod_ar1.fit()\n",
    "print(res_ar1.summary())"
   ]
  },
  {
   "cell_type": "code",
   "execution_count": 22,
   "id": "02343dbd",
   "metadata": {},
   "outputs": [],
   "source": [
    "predictions_ar1 = res_ar1.predict(test.index[0],test.index[-1])\n"
   ]
  },
  {
   "cell_type": "code",
   "execution_count": 23,
   "id": "1f3ef506",
   "metadata": {},
   "outputs": [
    {
     "data": {
      "text/plain": [
       "1624.6439236537985"
      ]
     },
     "execution_count": 23,
     "metadata": {},
     "output_type": "execute_result"
    }
   ],
   "source": [
    "from statsmodels.tools.eval_measures import rmse\n",
    "rmse_ar1 = rmse(test,predictions_ar1)\n",
    "rmse_ar1"
   ]
  },
  {
   "cell_type": "code",
   "execution_count": 24,
   "id": "5f6b5734",
   "metadata": {},
   "outputs": [
    {
     "name": "stderr",
     "output_type": "stream",
     "text": [
      "C:\\Users\\paul\\anaconda3\\lib\\site-packages\\statsmodels\\tsa\\base\\tsa_model.py:524: ValueWarning: No frequency information was provided, so inferred frequency D will be used.\n",
      "  warnings.warn('No frequency information was'\n"
     ]
    },
    {
     "name": "stdout",
     "output_type": "stream",
     "text": [
      "                              ARMA Model Results                              \n",
      "==============================================================================\n",
      "Dep. Variable:                 differ   No. Observations:                 2161\n",
      "Model:                     ARMA(0, 1)   Log Likelihood              -15281.774\n",
      "Method:                       css-mle   S.D. of innovations            285.055\n",
      "Date:                Wed, 09 Feb 2022   AIC                          30569.548\n",
      "Time:                        23:01:43   BIC                          30586.583\n",
      "Sample:                    09-18-2014   HQIC                         30575.778\n",
      "                         - 08-17-2020                                         \n",
      "================================================================================\n",
      "                   coef    std err          z      P>|z|      [0.025      0.975]\n",
      "--------------------------------------------------------------------------------\n",
      "const            5.4591      6.235      0.876      0.381      -6.761      17.679\n",
      "ma.L1.differ     0.0168      0.022      0.773      0.439      -0.026       0.059\n",
      "                                    Roots                                    \n",
      "=============================================================================\n",
      "                  Real          Imaginary           Modulus         Frequency\n",
      "-----------------------------------------------------------------------------\n",
      "MA.1          -59.6242           +0.0000j           59.6242            0.5000\n",
      "-----------------------------------------------------------------------------\n"
     ]
    }
   ],
   "source": [
    "mod_ma1 = ARMA(train.dropna(), order=(0, 1))\n",
    "res_ma1 = mod_ma1.fit()\n",
    "print(res_ma1.summary())"
   ]
  },
  {
   "cell_type": "code",
   "execution_count": 25,
   "id": "75d428b6",
   "metadata": {},
   "outputs": [
    {
     "data": {
      "text/plain": [
       "1624.6439274246181"
      ]
     },
     "execution_count": 25,
     "metadata": {},
     "output_type": "execute_result"
    }
   ],
   "source": [
    "predictions_ma1 = res_ma1.predict(test.index[0],test.index[-1])\n",
    "rmse_ma1 = rmse(test,predictions_ma1)\n",
    "rmse_ma1"
   ]
  },
  {
   "cell_type": "code",
   "execution_count": 26,
   "id": "ee8df24e",
   "metadata": {},
   "outputs": [
    {
     "data": {
      "text/html": [
       "<div>\n",
       "<style scoped>\n",
       "    .dataframe tbody tr th:only-of-type {\n",
       "        vertical-align: middle;\n",
       "    }\n",
       "\n",
       "    .dataframe tbody tr th {\n",
       "        vertical-align: top;\n",
       "    }\n",
       "\n",
       "    .dataframe thead th {\n",
       "        text-align: right;\n",
       "    }\n",
       "</style>\n",
       "<table border=\"1\" class=\"dataframe\">\n",
       "  <thead>\n",
       "    <tr style=\"text-align: right;\">\n",
       "      <th></th>\n",
       "      <th>model</th>\n",
       "      <th>RMSE</th>\n",
       "      <th>AIC</th>\n",
       "      <th>BIC</th>\n",
       "    </tr>\n",
       "  </thead>\n",
       "  <tbody>\n",
       "    <tr>\n",
       "      <th>0</th>\n",
       "      <td>AR(1)</td>\n",
       "      <td>1624.643924</td>\n",
       "      <td>30569.557931</td>\n",
       "      <td>30586.592910</td>\n",
       "    </tr>\n",
       "    <tr>\n",
       "      <th>1</th>\n",
       "      <td>MA(1)</td>\n",
       "      <td>1624.643927</td>\n",
       "      <td>30569.547704</td>\n",
       "      <td>30586.582683</td>\n",
       "    </tr>\n",
       "  </tbody>\n",
       "</table>\n",
       "</div>"
      ],
      "text/plain": [
       "   model         RMSE           AIC           BIC\n",
       "0  AR(1)  1624.643924  30569.557931  30586.592910\n",
       "1  MA(1)  1624.643927  30569.547704  30586.582683"
      ]
     },
     "execution_count": 26,
     "metadata": {},
     "output_type": "execute_result"
    }
   ],
   "source": [
    "comparison_models = pd.DataFrame({'model': ['AR(1)','MA(1)'],'RMSE': [rmse_ar1, rmse_ma1], 'AIC': [res_ar1.aic, res_ma1.aic], 'BIC': [res_ar1.bic, res_ma1.bic]})\n",
    "comparison_models"
   ]
  },
  {
   "cell_type": "code",
   "execution_count": 27,
   "id": "379de07d",
   "metadata": {},
   "outputs": [],
   "source": [
    "def optimize_ARMA(order_list, exog):\n",
    "    \"\"\"\n",
    "        Return dataframe with parameters and corresponding AIC\n",
    "        \n",
    "        order_list - list with (p, q) tuples\n",
    "        exog - the exogenous variable\n",
    "    \"\"\"\n",
    "    \n",
    "    results = []\n",
    "    \n",
    "    for order in (order_list):\n",
    "        try: \n",
    "            model = ARMA(exog, order=order).fit()\n",
    "        except:\n",
    "            continue\n",
    "            \n",
    "        aic = model.aic\n",
    "        results.append([order, model.aic, model.bic])\n",
    "        \n",
    "    result_df = pd.DataFrame(results)\n",
    "    result_df.columns = ['(p, q)', 'AIC', 'BIC']\n",
    "    #Sort in ascending order, lower AIC is better\n",
    "    result_df = result_df.sort_values(by='AIC', ascending=True).reset_index(drop=True)\n",
    "    \n",
    "    return result_df"
   ]
  },
  {
   "cell_type": "code",
   "execution_count": 28,
   "id": "9d550de1",
   "metadata": {},
   "outputs": [],
   "source": [
    "p = range(5)\n",
    "q =range(5)\n",
    "order_list = [(x,y) for x in p for y in q] "
   ]
  },
  {
   "cell_type": "code",
   "execution_count": 29,
   "id": "127f572b",
   "metadata": {},
   "outputs": [
    {
     "name": "stderr",
     "output_type": "stream",
     "text": [
      "C:\\Users\\paul\\anaconda3\\lib\\site-packages\\statsmodels\\tsa\\base\\tsa_model.py:524: ValueWarning: No frequency information was provided, so inferred frequency D will be used.\n",
      "  warnings.warn('No frequency information was'\n",
      "C:\\Users\\paul\\anaconda3\\lib\\site-packages\\statsmodels\\tsa\\base\\tsa_model.py:524: ValueWarning: No frequency information was provided, so inferred frequency D will be used.\n",
      "  warnings.warn('No frequency information was'\n",
      "C:\\Users\\paul\\anaconda3\\lib\\site-packages\\statsmodels\\tsa\\base\\tsa_model.py:524: ValueWarning: No frequency information was provided, so inferred frequency D will be used.\n",
      "  warnings.warn('No frequency information was'\n",
      "C:\\Users\\paul\\anaconda3\\lib\\site-packages\\statsmodels\\tsa\\base\\tsa_model.py:524: ValueWarning: No frequency information was provided, so inferred frequency D will be used.\n",
      "  warnings.warn('No frequency information was'\n",
      "C:\\Users\\paul\\anaconda3\\lib\\site-packages\\statsmodels\\tsa\\base\\tsa_model.py:524: ValueWarning: No frequency information was provided, so inferred frequency D will be used.\n",
      "  warnings.warn('No frequency information was'\n",
      "C:\\Users\\paul\\anaconda3\\lib\\site-packages\\statsmodels\\tsa\\base\\tsa_model.py:524: ValueWarning: No frequency information was provided, so inferred frequency D will be used.\n",
      "  warnings.warn('No frequency information was'\n",
      "C:\\Users\\paul\\anaconda3\\lib\\site-packages\\statsmodels\\tsa\\base\\tsa_model.py:524: ValueWarning: No frequency information was provided, so inferred frequency D will be used.\n",
      "  warnings.warn('No frequency information was'\n",
      "C:\\Users\\paul\\anaconda3\\lib\\site-packages\\statsmodels\\tsa\\base\\tsa_model.py:524: ValueWarning: No frequency information was provided, so inferred frequency D will be used.\n",
      "  warnings.warn('No frequency information was'\n",
      "C:\\Users\\paul\\anaconda3\\lib\\site-packages\\statsmodels\\tsa\\base\\tsa_model.py:524: ValueWarning: No frequency information was provided, so inferred frequency D will be used.\n",
      "  warnings.warn('No frequency information was'\n",
      "C:\\Users\\paul\\anaconda3\\lib\\site-packages\\statsmodels\\tsa\\base\\tsa_model.py:524: ValueWarning: No frequency information was provided, so inferred frequency D will be used.\n",
      "  warnings.warn('No frequency information was'\n",
      "C:\\Users\\paul\\anaconda3\\lib\\site-packages\\statsmodels\\tsa\\base\\tsa_model.py:524: ValueWarning: No frequency information was provided, so inferred frequency D will be used.\n",
      "  warnings.warn('No frequency information was'\n",
      "C:\\Users\\paul\\anaconda3\\lib\\site-packages\\statsmodels\\tsa\\base\\tsa_model.py:524: ValueWarning: No frequency information was provided, so inferred frequency D will be used.\n",
      "  warnings.warn('No frequency information was'\n",
      "C:\\Users\\paul\\anaconda3\\lib\\site-packages\\statsmodels\\tsa\\base\\tsa_model.py:524: ValueWarning: No frequency information was provided, so inferred frequency D will be used.\n",
      "  warnings.warn('No frequency information was'\n",
      "C:\\Users\\paul\\anaconda3\\lib\\site-packages\\statsmodels\\tsa\\base\\tsa_model.py:524: ValueWarning: No frequency information was provided, so inferred frequency D will be used.\n",
      "  warnings.warn('No frequency information was'\n",
      "C:\\Users\\paul\\anaconda3\\lib\\site-packages\\statsmodels\\base\\model.py:547: HessianInversionWarning: Inverting hessian failed, no bse or cov_params available\n",
      "  warnings.warn('Inverting hessian failed, no bse or cov_params '\n",
      "C:\\Users\\paul\\anaconda3\\lib\\site-packages\\statsmodels\\tsa\\base\\tsa_model.py:524: ValueWarning: No frequency information was provided, so inferred frequency D will be used.\n",
      "  warnings.warn('No frequency information was'\n",
      "C:\\Users\\paul\\anaconda3\\lib\\site-packages\\statsmodels\\base\\model.py:547: HessianInversionWarning: Inverting hessian failed, no bse or cov_params available\n",
      "  warnings.warn('Inverting hessian failed, no bse or cov_params '\n",
      "C:\\Users\\paul\\anaconda3\\lib\\site-packages\\statsmodels\\tsa\\base\\tsa_model.py:524: ValueWarning: No frequency information was provided, so inferred frequency D will be used.\n",
      "  warnings.warn('No frequency information was'\n",
      "C:\\Users\\paul\\anaconda3\\lib\\site-packages\\statsmodels\\tsa\\base\\tsa_model.py:524: ValueWarning: No frequency information was provided, so inferred frequency D will be used.\n",
      "  warnings.warn('No frequency information was'\n",
      "C:\\Users\\paul\\anaconda3\\lib\\site-packages\\statsmodels\\tsa\\base\\tsa_model.py:524: ValueWarning: No frequency information was provided, so inferred frequency D will be used.\n",
      "  warnings.warn('No frequency information was'\n",
      "C:\\Users\\paul\\anaconda3\\lib\\site-packages\\statsmodels\\tsa\\base\\tsa_model.py:524: ValueWarning: No frequency information was provided, so inferred frequency D will be used.\n",
      "  warnings.warn('No frequency information was'\n",
      "C:\\Users\\paul\\anaconda3\\lib\\site-packages\\statsmodels\\tsa\\base\\tsa_model.py:524: ValueWarning: No frequency information was provided, so inferred frequency D will be used.\n",
      "  warnings.warn('No frequency information was'\n",
      "C:\\Users\\paul\\anaconda3\\lib\\site-packages\\statsmodels\\tsa\\base\\tsa_model.py:524: ValueWarning: No frequency information was provided, so inferred frequency D will be used.\n",
      "  warnings.warn('No frequency information was'\n",
      "C:\\Users\\paul\\anaconda3\\lib\\site-packages\\statsmodels\\tsa\\base\\tsa_model.py:524: ValueWarning: No frequency information was provided, so inferred frequency D will be used.\n",
      "  warnings.warn('No frequency information was'\n",
      "C:\\Users\\paul\\anaconda3\\lib\\site-packages\\statsmodels\\tsa\\base\\tsa_model.py:524: ValueWarning: No frequency information was provided, so inferred frequency D will be used.\n",
      "  warnings.warn('No frequency information was'\n",
      "C:\\Users\\paul\\anaconda3\\lib\\site-packages\\statsmodels\\tsa\\base\\tsa_model.py:524: ValueWarning: No frequency information was provided, so inferred frequency D will be used.\n",
      "  warnings.warn('No frequency information was'\n",
      "C:\\Users\\paul\\anaconda3\\lib\\site-packages\\statsmodels\\tsa\\base\\tsa_model.py:524: ValueWarning: No frequency information was provided, so inferred frequency D will be used.\n",
      "  warnings.warn('No frequency information was'\n"
     ]
    }
   ],
   "source": [
    "result_arma = optimize_ARMA(order_list, data.differ.dropna())"
   ]
  },
  {
   "cell_type": "code",
   "execution_count": 30,
   "id": "eea52879",
   "metadata": {},
   "outputs": [
    {
     "data": {
      "text/html": [
       "<div>\n",
       "<style scoped>\n",
       "    .dataframe tbody tr th:only-of-type {\n",
       "        vertical-align: middle;\n",
       "    }\n",
       "\n",
       "    .dataframe tbody tr th {\n",
       "        vertical-align: top;\n",
       "    }\n",
       "\n",
       "    .dataframe thead th {\n",
       "        text-align: right;\n",
       "    }\n",
       "</style>\n",
       "<table border=\"1\" class=\"dataframe\">\n",
       "  <thead>\n",
       "    <tr style=\"text-align: right;\">\n",
       "      <th></th>\n",
       "      <th>(p, q)</th>\n",
       "      <th>AIC</th>\n",
       "      <th>BIC</th>\n",
       "    </tr>\n",
       "  </thead>\n",
       "  <tbody>\n",
       "    <tr>\n",
       "      <th>0</th>\n",
       "      <td>(2, 3)</td>\n",
       "      <td>43559.820919</td>\n",
       "      <td>43601.133151</td>\n",
       "    </tr>\n",
       "    <tr>\n",
       "      <th>1</th>\n",
       "      <td>(4, 2)</td>\n",
       "      <td>43560.439727</td>\n",
       "      <td>43607.653707</td>\n",
       "    </tr>\n",
       "    <tr>\n",
       "      <th>2</th>\n",
       "      <td>(2, 2)</td>\n",
       "      <td>43570.250918</td>\n",
       "      <td>43605.661403</td>\n",
       "    </tr>\n",
       "    <tr>\n",
       "      <th>3</th>\n",
       "      <td>(3, 3)</td>\n",
       "      <td>43573.651014</td>\n",
       "      <td>43620.864994</td>\n",
       "    </tr>\n",
       "    <tr>\n",
       "      <th>4</th>\n",
       "      <td>(3, 4)</td>\n",
       "      <td>43575.517748</td>\n",
       "      <td>43628.633476</td>\n",
       "    </tr>\n",
       "    <tr>\n",
       "      <th>5</th>\n",
       "      <td>(4, 3)</td>\n",
       "      <td>43575.518485</td>\n",
       "      <td>43628.634213</td>\n",
       "    </tr>\n",
       "    <tr>\n",
       "      <th>6</th>\n",
       "      <td>(0, 4)</td>\n",
       "      <td>43589.403377</td>\n",
       "      <td>43624.813863</td>\n",
       "    </tr>\n",
       "    <tr>\n",
       "      <th>7</th>\n",
       "      <td>(2, 4)</td>\n",
       "      <td>43590.422973</td>\n",
       "      <td>43637.636953</td>\n",
       "    </tr>\n",
       "    <tr>\n",
       "      <th>8</th>\n",
       "      <td>(4, 0)</td>\n",
       "      <td>43590.537699</td>\n",
       "      <td>43625.948184</td>\n",
       "    </tr>\n",
       "    <tr>\n",
       "      <th>9</th>\n",
       "      <td>(1, 4)</td>\n",
       "      <td>43590.879619</td>\n",
       "      <td>43632.191851</td>\n",
       "    </tr>\n",
       "    <tr>\n",
       "      <th>10</th>\n",
       "      <td>(4, 1)</td>\n",
       "      <td>43591.144984</td>\n",
       "      <td>43632.457217</td>\n",
       "    </tr>\n",
       "    <tr>\n",
       "      <th>11</th>\n",
       "      <td>(0, 0)</td>\n",
       "      <td>43591.161599</td>\n",
       "      <td>43602.965094</td>\n",
       "    </tr>\n",
       "    <tr>\n",
       "      <th>12</th>\n",
       "      <td>(1, 0)</td>\n",
       "      <td>43591.491944</td>\n",
       "      <td>43609.197186</td>\n",
       "    </tr>\n",
       "    <tr>\n",
       "      <th>13</th>\n",
       "      <td>(0, 1)</td>\n",
       "      <td>43591.499401</td>\n",
       "      <td>43609.204644</td>\n",
       "    </tr>\n",
       "    <tr>\n",
       "      <th>14</th>\n",
       "      <td>(1, 2)</td>\n",
       "      <td>43591.968859</td>\n",
       "      <td>43621.477597</td>\n",
       "    </tr>\n",
       "    <tr>\n",
       "      <th>15</th>\n",
       "      <td>(2, 1)</td>\n",
       "      <td>43592.046906</td>\n",
       "      <td>43621.555643</td>\n",
       "    </tr>\n",
       "    <tr>\n",
       "      <th>16</th>\n",
       "      <td>(1, 3)</td>\n",
       "      <td>43592.584749</td>\n",
       "      <td>43627.995234</td>\n",
       "    </tr>\n",
       "    <tr>\n",
       "      <th>17</th>\n",
       "      <td>(3, 1)</td>\n",
       "      <td>43592.867838</td>\n",
       "      <td>43628.278324</td>\n",
       "    </tr>\n",
       "    <tr>\n",
       "      <th>18</th>\n",
       "      <td>(0, 2)</td>\n",
       "      <td>43593.478608</td>\n",
       "      <td>43617.085598</td>\n",
       "    </tr>\n",
       "    <tr>\n",
       "      <th>19</th>\n",
       "      <td>(2, 0)</td>\n",
       "      <td>43593.484957</td>\n",
       "      <td>43617.091947</td>\n",
       "    </tr>\n",
       "    <tr>\n",
       "      <th>20</th>\n",
       "      <td>(1, 1)</td>\n",
       "      <td>43593.488125</td>\n",
       "      <td>43617.095115</td>\n",
       "    </tr>\n",
       "    <tr>\n",
       "      <th>21</th>\n",
       "      <td>(0, 3)</td>\n",
       "      <td>43594.937803</td>\n",
       "      <td>43624.446541</td>\n",
       "    </tr>\n",
       "    <tr>\n",
       "      <th>22</th>\n",
       "      <td>(3, 0)</td>\n",
       "      <td>43595.092653</td>\n",
       "      <td>43624.601390</td>\n",
       "    </tr>\n",
       "  </tbody>\n",
       "</table>\n",
       "</div>"
      ],
      "text/plain": [
       "    (p, q)           AIC           BIC\n",
       "0   (2, 3)  43559.820919  43601.133151\n",
       "1   (4, 2)  43560.439727  43607.653707\n",
       "2   (2, 2)  43570.250918  43605.661403\n",
       "3   (3, 3)  43573.651014  43620.864994\n",
       "4   (3, 4)  43575.517748  43628.633476\n",
       "5   (4, 3)  43575.518485  43628.634213\n",
       "6   (0, 4)  43589.403377  43624.813863\n",
       "7   (2, 4)  43590.422973  43637.636953\n",
       "8   (4, 0)  43590.537699  43625.948184\n",
       "9   (1, 4)  43590.879619  43632.191851\n",
       "10  (4, 1)  43591.144984  43632.457217\n",
       "11  (0, 0)  43591.161599  43602.965094\n",
       "12  (1, 0)  43591.491944  43609.197186\n",
       "13  (0, 1)  43591.499401  43609.204644\n",
       "14  (1, 2)  43591.968859  43621.477597\n",
       "15  (2, 1)  43592.046906  43621.555643\n",
       "16  (1, 3)  43592.584749  43627.995234\n",
       "17  (3, 1)  43592.867838  43628.278324\n",
       "18  (0, 2)  43593.478608  43617.085598\n",
       "19  (2, 0)  43593.484957  43617.091947\n",
       "20  (1, 1)  43593.488125  43617.095115\n",
       "21  (0, 3)  43594.937803  43624.446541\n",
       "22  (3, 0)  43595.092653  43624.601390"
      ]
     },
     "execution_count": 30,
     "metadata": {},
     "output_type": "execute_result"
    }
   ],
   "source": [
    "result_arma\n"
   ]
  },
  {
   "cell_type": "code",
   "execution_count": 31,
   "id": "dea8688e",
   "metadata": {},
   "outputs": [
    {
     "data": {
      "text/html": [
       "<div>\n",
       "<style scoped>\n",
       "    .dataframe tbody tr th:only-of-type {\n",
       "        vertical-align: middle;\n",
       "    }\n",
       "\n",
       "    .dataframe tbody tr th {\n",
       "        vertical-align: top;\n",
       "    }\n",
       "\n",
       "    .dataframe thead th {\n",
       "        text-align: right;\n",
       "    }\n",
       "</style>\n",
       "<table border=\"1\" class=\"dataframe\">\n",
       "  <thead>\n",
       "    <tr style=\"text-align: right;\">\n",
       "      <th></th>\n",
       "      <th>(p, q)</th>\n",
       "      <th>AIC</th>\n",
       "      <th>BIC</th>\n",
       "    </tr>\n",
       "  </thead>\n",
       "  <tbody>\n",
       "    <tr>\n",
       "      <th>0</th>\n",
       "      <td>(2, 3)</td>\n",
       "      <td>43559.820919</td>\n",
       "      <td>43601.133151</td>\n",
       "    </tr>\n",
       "  </tbody>\n",
       "</table>\n",
       "</div>"
      ],
      "text/plain": [
       "   (p, q)           AIC           BIC\n",
       "0  (2, 3)  43559.820919  43601.133151"
      ]
     },
     "execution_count": 31,
     "metadata": {},
     "output_type": "execute_result"
    }
   ],
   "source": [
    "result_arma[result_arma.AIC == result_arma.AIC.min()]\n"
   ]
  },
  {
   "cell_type": "code",
   "execution_count": 32,
   "id": "9838948a",
   "metadata": {},
   "outputs": [
    {
     "data": {
      "text/plain": [
       "DatetimeIndex(['2022-02-02', '2022-02-03', '2022-02-04', '2022-02-05',\n",
       "               '2022-02-06', '2022-02-07'],\n",
       "              dtype='datetime64[ns]', freq='D')"
      ]
     },
     "execution_count": 32,
     "metadata": {},
     "output_type": "execute_result"
    }
   ],
   "source": [
    "test_prediction = pd.date_range(\"2022-02-02\", periods=6, freq=\"D\")\n",
    "test_prediction\n"
   ]
  },
  {
   "cell_type": "code",
   "execution_count": 33,
   "id": "f27ec7f5",
   "metadata": {},
   "outputs": [
    {
     "data": {
      "text/plain": [
       "36952.984375"
      ]
     },
     "execution_count": 33,
     "metadata": {},
     "output_type": "execute_result"
    }
   ],
   "source": [
    "data.loc['2022-02-02 00:00:00', 'Close']\n"
   ]
  },
  {
   "cell_type": "code",
   "execution_count": 34,
   "id": "2d4a8027",
   "metadata": {},
   "outputs": [
    {
     "name": "stderr",
     "output_type": "stream",
     "text": [
      "C:\\Users\\paul\\anaconda3\\lib\\site-packages\\statsmodels\\tsa\\base\\tsa_model.py:524: ValueWarning: No frequency information was provided, so inferred frequency D will be used.\n",
      "  warnings.warn('No frequency information was'\n",
      "C:\\Users\\paul\\anaconda3\\lib\\site-packages\\statsmodels\\tsa\\base\\tsa_model.py:524: ValueWarning: No frequency information was provided, so inferred frequency D will be used.\n",
      "  warnings.warn('No frequency information was'\n",
      "C:\\Users\\paul\\anaconda3\\lib\\site-packages\\statsmodels\\base\\model.py:547: HessianInversionWarning: Inverting hessian failed, no bse or cov_params available\n",
      "  warnings.warn('Inverting hessian failed, no bse or cov_params '\n",
      "C:\\Users\\paul\\anaconda3\\lib\\site-packages\\statsmodels\\base\\model.py:566: ConvergenceWarning: Maximum Likelihood optimization failed to converge. Check mle_retvals\n",
      "  warnings.warn(\"Maximum Likelihood optimization failed to \"\n"
     ]
    },
    {
     "name": "stdout",
     "output_type": "stream",
     "text": [
      "                             ARIMA Model Results                              \n",
      "==============================================================================\n",
      "Dep. Variable:              D2.differ   No. Observations:                 2700\n",
      "Model:                 ARIMA(2, 2, 4)   Log Likelihood              -21762.127\n",
      "Method:                       css-mle   S.D. of innovations                nan\n",
      "Date:                Wed, 09 Feb 2022   AIC                          43540.254\n",
      "Time:                        23:02:59   BIC                          43587.462\n",
      "Sample:                    09-20-2014   HQIC                         43557.326\n",
      "                         - 02-09-2022                                         \n",
      "===================================================================================\n",
      "                      coef    std err          z      P>|z|      [0.025      0.975]\n",
      "-----------------------------------------------------------------------------------\n",
      "const            9.875e-06      0.000      0.065      0.948      -0.000       0.000\n",
      "ar.L1.D2.differ    -0.4806      0.004   -121.651      0.000      -0.488      -0.473\n",
      "ar.L2.D2.differ    -0.9812      0.004   -253.714      0.000      -0.989      -0.974\n",
      "ma.L1.D2.differ    -1.5431      0.000  -6768.725      0.000      -1.544      -1.543\n",
      "ma.L2.D2.differ     1.0862   1.28e-07   8.46e+06      0.000       1.086       1.086\n",
      "ma.L3.D2.differ    -1.5431      0.000  -5332.362      0.000      -1.544      -1.543\n",
      "ma.L4.D2.differ     1.0000   4.63e-05   2.16e+04      0.000       1.000       1.000\n",
      "                                    Roots                                    \n",
      "=============================================================================\n",
      "                  Real          Imaginary           Modulus         Frequency\n",
      "-----------------------------------------------------------------------------\n",
      "AR.1           -0.2449           -0.9794j            1.0095           -0.2890\n",
      "AR.2           -0.2449           +0.9794j            1.0095            0.2890\n",
      "MA.1           -0.2284           -0.9736j            1.0000           -0.2867\n",
      "MA.2           -0.2284           +0.9736j            1.0000            0.2867\n",
      "MA.3            1.0000           -0.0001j            1.0000           -0.0000\n",
      "MA.4            1.0000           +0.0001j            1.0000            0.0000\n",
      "-----------------------------------------------------------------------------\n"
     ]
    }
   ],
   "source": [
    "mod_arima224 = ARIMA(data.differ.dropna(), order=(2,2,4))\n",
    "res_arima224 = mod_arima224.fit()\n",
    "print(res_arima224.summary())\n"
   ]
  },
  {
   "cell_type": "code",
   "execution_count": 35,
   "id": "48503444",
   "metadata": {},
   "outputs": [],
   "source": [
    "predictions = res_arima224.predict(start='2022-02-02 00:00:00', end='2022-02-07 00:00:00')"
   ]
  },
  {
   "cell_type": "code",
   "execution_count": 36,
   "id": "f856d205",
   "metadata": {},
   "outputs": [],
   "source": [
    "def predictions_5(predictions):\n",
    "\t'''\n",
    "\tThis function goes back to the price based on the values of diff predicted by the model\n",
    "\t'''\n",
    "\tresult=[data.loc['2022-01-19 00:00:00', 'Close']]\n",
    "\tfor i in range(1,6):\n",
    "\t\tresult.append(result[-1]+predictions[i])\n",
    "\treturn result"
   ]
  },
  {
   "cell_type": "code",
   "execution_count": 37,
   "id": "ec40c6f6",
   "metadata": {},
   "outputs": [],
   "source": [
    "result = predictions_5(predictions)\n"
   ]
  },
  {
   "cell_type": "code",
   "execution_count": 38,
   "id": "541bf36d",
   "metadata": {},
   "outputs": [
    {
     "data": {
      "text/plain": [
       "[41744.328125,\n",
       " 45237.21728767139,\n",
       " 43582.12136056158,\n",
       " 35189.60714820336,\n",
       " 39252.207203129125,\n",
       " 37419.04276114793]"
      ]
     },
     "execution_count": 38,
     "metadata": {},
     "output_type": "execute_result"
    }
   ],
   "source": [
    "result"
   ]
  },
  {
   "cell_type": "code",
   "execution_count": null,
   "id": "c213dd94",
   "metadata": {},
   "outputs": [],
   "source": []
  }
 ],
 "metadata": {
  "kernelspec": {
   "display_name": "Python 3",
   "language": "python",
   "name": "python3"
  },
  "language_info": {
   "codemirror_mode": {
    "name": "ipython",
    "version": 3
   },
   "file_extension": ".py",
   "mimetype": "text/x-python",
   "name": "python",
   "nbconvert_exporter": "python",
   "pygments_lexer": "ipython3",
   "version": "3.8.8"
  }
 },
 "nbformat": 4,
 "nbformat_minor": 5
}
