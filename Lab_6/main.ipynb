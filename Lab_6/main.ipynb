{
 "cells": [
  {
   "cell_type": "markdown",
   "metadata": {
    "toc": true
   },
   "source": [
    "<h1>Table of Contents<span class=\"tocSkip\"></span></h1>\n",
    "<div class=\"toc\"><ul class=\"toc-item\"><li><span><a href=\"#Confidence-Intervals\" data-toc-modified-id=\"Confidence-Intervals-1\"><span class=\"toc-item-num\">1&nbsp;&nbsp;</span>Confidence Intervals</a></span><ul class=\"toc-item\"><li><span><a href=\"#Challenge-1\" data-toc-modified-id=\"Challenge-1-1.1\"><span class=\"toc-item-num\">1.1&nbsp;&nbsp;</span>Challenge 1</a></span></li><li><span><a href=\"#Challenge-2\" data-toc-modified-id=\"Challenge-2-1.2\"><span class=\"toc-item-num\">1.2&nbsp;&nbsp;</span>Challenge 2</a></span></li><li><span><a href=\"#Challenge-3---More-practice\" data-toc-modified-id=\"Challenge-3---More-practice-1.3\"><span class=\"toc-item-num\">1.3&nbsp;&nbsp;</span>Challenge 3 - More practice</a></span></li><li><span><a href=\"#Challenge-4---More-practice\" data-toc-modified-id=\"Challenge-4---More-practice-1.4\"><span class=\"toc-item-num\">1.4&nbsp;&nbsp;</span>Challenge 4 - More practice</a></span></li><li><span><a href=\"#Bonus-Challenge\" data-toc-modified-id=\"Bonus-Challenge-1.5\"><span class=\"toc-item-num\">1.5&nbsp;&nbsp;</span>Bonus Challenge</a></span><ul class=\"toc-item\"><li><ul class=\"toc-item\"><li><span><a href=\"#1.--Determine-what-size-the-selected-sample-of-men-should-be.\" data-toc-modified-id=\"1.--Determine-what-size-the-selected-sample-of-men-should-be.-1.5.0.1\"><span class=\"toc-item-num\">1.5.0.1&nbsp;&nbsp;</span>1.- Determine what size the selected sample of men should be.</a></span></li><li><span><a href=\"#2.--For-the-second-challenge,-we-have-the-following-error:\" data-toc-modified-id=\"2.--For-the-second-challenge,-we-have-the-following-error:-1.5.0.2\"><span class=\"toc-item-num\">1.5.0.2&nbsp;&nbsp;</span>2.- For the second challenge, we have the following error:</a></span></li><li><span><a href=\"#Determine-the-sample-size-required-to-not-exceed-an-error-of-1%-with-a-confidence-of-80%.\" data-toc-modified-id=\"Determine-the-sample-size-required-to-not-exceed-an-error-of-1%-with-a-confidence-of-80%.-1.5.0.3\"><span class=\"toc-item-num\">1.5.0.3&nbsp;&nbsp;</span>Determine the sample size required to not exceed an error of 1% with a confidence of 80%.</a></span></li></ul></li></ul></li><li><span><a href=\"#Bonus-Challenge\" data-toc-modified-id=\"Bonus-Challenge-1.6\"><span class=\"toc-item-num\">1.6&nbsp;&nbsp;</span>Bonus Challenge</a></span></li></ul></li></ul></div>"
   ]
  },
  {
   "cell_type": "markdown",
   "metadata": {},
   "source": [
    "# Confidence Intervals"
   ]
  },
  {
   "cell_type": "code",
   "execution_count": 1,
   "metadata": {},
   "outputs": [],
   "source": [
    "import pandas as pd\n",
    "import numpy as np\n",
    "from numpy import random\n",
    "import math\n",
    "import scipy.stats as st\n",
    "import statistics\n",
    "\n",
    "import matplotlib.pyplot as plt\n",
    "import seaborn as sns\n"
   ]
  },
  {
   "cell_type": "markdown",
   "metadata": {},
   "source": [
    "## Challenge 1\n",
    "We want to estimate the average size of the men of a country with a confidence level of 80%. Assuming that the standard deviation of the sizes in the population is 4, get the confidence interval with a sample of men selected randomly, whose heights are:\n",
    "\n",
    "````\n",
    "heights = [167, 167, 168, 168, 168, 169, 171, 172, 173, 175, 175, 175, 177, 182, 195]\n",
    "````\n",
    "\n",
    "**Hint**: function `stats.norm.interval` from `scipy` can help you get through this exercise. "
   ]
  },
  {
   "cell_type": "code",
   "execution_count": 2,
   "metadata": {},
   "outputs": [
    {
     "data": {
      "text/plain": [
       "(171.0323076132764, 175.90102572005694)"
      ]
     },
     "execution_count": 2,
     "metadata": {},
     "output_type": "execute_result"
    }
   ],
   "source": [
    "heights = [167, 167, 168, 168, 168, 169, 171, 172, 173, 175, 175, 175, 177, 182, 195]\n",
    "mean = np.mean(heights)\n",
    "sigma = np.std(heights)\n",
    "sem = st.sem(heights)\n",
    "conf_80 = st.norm.interval(0.80, loc=mean, scale=sem)\n",
    "conf_80"
   ]
  },
  {
   "cell_type": "markdown",
   "metadata": {},
   "source": [
    "## Challenge 2 \n",
    "In a sample of 105 shops selected randomly from an area, we note that 27 of them have had losses in this month. Get an interval for the proportion of businesses in the area with losses to a confidence level of 80% and a confidence level of 90%.\n",
    "\n",
    "**Hint**: function `stats.norm.interval` from `scipy` can help you get through this exercise. "
   ]
  },
  {
   "cell_type": "code",
   "execution_count": 10,
   "metadata": {},
   "outputs": [],
   "source": [
    "from scipy.stats import norm\n",
    "import math\n",
    "pop=105\n",
    "loss=27\n",
    "ratio=loss/pop\n",
    "se= math.sqrt(ratio*(1-ratio)/pop)"
   ]
  },
  {
   "cell_type": "code",
   "execution_count": 11,
   "metadata": {},
   "outputs": [
    {
     "data": {
      "text/plain": [
       "(0.20248138545542083, 0.3118043288302934)"
      ]
     },
     "execution_count": 11,
     "metadata": {},
     "output_type": "execute_result"
    }
   ],
   "source": [
    "conf_80=st.norm.interval(0.80, loc=ratio,scale=se)\n",
    "conf_80"
   ]
  },
  {
   "cell_type": "code",
   "execution_count": 12,
   "metadata": {},
   "outputs": [
    {
     "data": {
      "text/plain": [
       "(0.1869856177645281, 0.3273000965211861)"
      ]
     },
     "execution_count": 12,
     "metadata": {},
     "output_type": "execute_result"
    }
   ],
   "source": [
    "conf_90=st.norm.interval(0.90, loc=ratio,scale=se)\n",
    "conf_90"
   ]
  },
  {
   "cell_type": "markdown",
   "metadata": {},
   "source": [
    "## Challenge 3 - More practice\n",
    "For the same example in challenge 1, calculate a confidence interval for the variance at 90% level.\n",
    "\n",
    "**Hint**: function `stats.chi2.interval` from `scipy` can help you get through this exercise. "
   ]
  },
  {
   "cell_type": "code",
   "execution_count": 20,
   "metadata": {},
   "outputs": [
    {
     "data": {
      "text/plain": [
       "(29.85957396353499, 107.63315372135803)"
      ]
     },
     "execution_count": 20,
     "metadata": {},
     "output_type": "execute_result"
    }
   ],
   "source": [
    "heights = [167, 167, 168, 168, 168, 169, 171, 172, 173, 175, 175, 175, 177, 182, 195]\n",
    "sigma = np.std(heights)\n",
    "df=len(heights)-1\n",
    "chi=st.chi2.interval(0.90,df)\n",
    "conf_90=(df*(sigma**2))/chi[1], (df*(sigma**2))/chi[0]\n",
    "conf_90"
   ]
  },
  {
   "cell_type": "markdown",
   "metadata": {},
   "source": [
    "## Challenge 4 - More practice\n",
    "The sulfuric acid content of 7 similar containers is 9.8, 10.2, 10.4, 9.8, 10.0, 10.2 and 9.6 liters. Calculate a 95% confidence interval for the average content of all containers assuming an approximately normal distribution.\n",
    "\n",
    "```\n",
    "acid = [9.8, 10.2, 10.4, 9.8, 10.0, 10.2, 9.6]\n",
    "```\n",
    "\n",
    "**Hint**: function `stats.t.interval` from `scipy` can help you get through this exercise. "
   ]
  },
  {
   "cell_type": "code",
   "execution_count": 14,
   "metadata": {},
   "outputs": [
    {
     "data": {
      "text/plain": [
       "(9.738414120176683, 10.261585879823317)"
      ]
     },
     "execution_count": 14,
     "metadata": {},
     "output_type": "execute_result"
    }
   ],
   "source": [
    "acid = [9.8, 10.2, 10.4, 9.8, 10.0, 10.2, 9.6]\n",
    "st.t.interval(alpha=0.95, df=len(acid)-1, loc=np.mean(acid), scale=st.sem(acid)) "
   ]
  },
  {
   "cell_type": "markdown",
   "metadata": {},
   "source": [
    "## Bonus Challenge\n",
    "The error level or sampling error for the first challenge is given by the following expression:\n",
    "$$Error = z_{\\frac{\\alpha}{2}}\\frac{\\sigma}{\\sqrt n}$$\n",
    "Where z represents the value for N(0,1)\n",
    "\n",
    "\n",
    "Suppose that with the previous data of challenge 1, and with a confidence level of\n",
    "99% (that is, almost certainly) we want to estimate the average population size, so that the error level committed is not greater than half a centimeter.\n",
    "\n",
    "#### 1.- Determine what size the selected sample of men should be."
   ]
  },
  {
   "cell_type": "code",
   "execution_count": null,
   "metadata": {},
   "outputs": [],
   "source": [
    "# your code here"
   ]
  },
  {
   "cell_type": "markdown",
   "metadata": {},
   "source": [
    "#### 2.- For the second challenge, we have the following error:\n",
    "$$ Error = z_{\\frac{\\alpha}{2}}\\sqrt{\\frac{p\\times q}{n}} $$\n",
    "#### Determine the sample size required to not exceed an error of 1% with a confidence of 80%."
   ]
  },
  {
   "cell_type": "code",
   "execution_count": null,
   "metadata": {},
   "outputs": [],
   "source": [
    "# your code here"
   ]
  },
  {
   "cell_type": "markdown",
   "metadata": {},
   "source": [
    "## Bonus Challenge\n",
    "\n",
    "Let's consider the following problem:\n",
    "\n",
    "Build a confidence interval of 94% for the real difference between the durations of two brands of spotlights, if a sample of 40 spotlights taken randomly from the first mark gave an average duration of 418 hours, and a sample of 50 bulbs of another brand gave a duration average of 402 hours. The standard deviations of the two\n",
    "populations are 26 hours and 22 hours, respectively.\n",
    "\n",
    "Sometimes, we will be interested in the difference of two different groups of random variables. We can also build a confidence interval for that! We have some different cases regarding the variance but for this specific case (the variance are different and known), we have that:\n",
    "\n",
    "$$\\overline{X} - \\overline{Y}  \\sim N(\\mu_{X} - \\mu_{Y} , \\sqrt{\\frac{\\sigma_{X}^2}{n_X}+\\frac{\\sigma_{Y}^2}{n_Y}})$$\n",
    "\n",
    "Solve the problem with this information."
   ]
  },
  {
   "cell_type": "code",
   "execution_count": null,
   "metadata": {},
   "outputs": [],
   "source": [
    "# your code here"
   ]
  }
 ],
 "metadata": {
  "kernelspec": {
   "display_name": "Python 3",
   "language": "python",
   "name": "python3"
  },
  "language_info": {
   "codemirror_mode": {
    "name": "ipython",
    "version": 3
   },
   "file_extension": ".py",
   "mimetype": "text/x-python",
   "name": "python",
   "nbconvert_exporter": "python",
   "pygments_lexer": "ipython3",
   "version": "3.8.8"
  },
  "toc": {
   "base_numbering": 1,
   "nav_menu": {},
   "number_sections": true,
   "sideBar": true,
   "skip_h1_title": false,
   "title_cell": "Table of Contents",
   "title_sidebar": "Contents",
   "toc_cell": true,
   "toc_position": {},
   "toc_section_display": true,
   "toc_window_display": false
  }
 },
 "nbformat": 4,
 "nbformat_minor": 2
}
